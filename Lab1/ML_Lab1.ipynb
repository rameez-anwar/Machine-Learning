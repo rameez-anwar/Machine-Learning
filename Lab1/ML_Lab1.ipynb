{
  "nbformat": 4,
  "nbformat_minor": 0,
  "metadata": {
    "colab": {
      "provenance": [],
      "authorship_tag": "ABX9TyNh1EH97cwwgkdEbCAQjrCm"
    },
    "kernelspec": {
      "name": "python3",
      "display_name": "Python 3"
    },
    "language_info": {
      "name": "python"
    }
  },
  "cells": [
    {
      "cell_type": "markdown",
      "source": [
        "# **Lab 1**\n",
        "> # **Name  : Rameez Anwar**\n",
        "> # **Reg # : B22F0150Ai102**\n",
        "> # **Lab   : Machine Learning**\n",
        "> # **Instructor: Dr. Zakir Khan**\n"
      ],
      "metadata": {
        "id": "scwYCJbYnkeC"
      }
    },
    {
      "cell_type": "markdown",
      "source": [
        "# **Task 1: Python Basics Review**"
      ],
      "metadata": {
        "id": "167X3J9ygJnn"
      }
    },
    {
      "cell_type": "code",
      "execution_count": null,
      "metadata": {
        "colab": {
          "base_uri": "https://localhost:8080/"
        },
        "id": "dSddJ-UHeMHA",
        "outputId": "0593b987-7562-4bb1-93e2-8933b995ad6f"
      },
      "outputs": [
        {
          "output_type": "stream",
          "name": "stdout",
          "text": [
            "Number is greater than 5\n"
          ]
        }
      ],
      "source": [
        "# Defines two variables (one integer, one string).\n",
        "a=10\n",
        "b=\"Rameez\"\n",
        "# Uses an if-else statement to print a message depending on the value of the integer.\n",
        "if a >5:\n",
        " print(\"Number is greater than 5\")\n",
        "else:\n",
        "  print(\"Number is smaler than 5\")\n",
        "\n"
      ]
    },
    {
      "cell_type": "code",
      "source": [
        "# Creates a list of five elements and prints the first three.\n",
        "numbers =[1,2,3,4,5]\n",
        "for i in range(3):\n",
        "  print(numbers[i])"
      ],
      "metadata": {
        "colab": {
          "base_uri": "https://localhost:8080/"
        },
        "id": "GZfjbZjzfdBz",
        "outputId": "ebaf66db-6e15-4977-81c7-2e2361ccada2"
      },
      "execution_count": null,
      "outputs": [
        {
          "output_type": "stream",
          "name": "stdout",
          "text": [
            "1\n",
            "2\n",
            "3\n"
          ]
        }
      ]
    },
    {
      "cell_type": "code",
      "source": [
        "#\tDefines a function that multiplies two numbers and prints the result.\n",
        "def mul(a,b):\n",
        "  return a*b\n",
        "mul(2,3)"
      ],
      "metadata": {
        "colab": {
          "base_uri": "https://localhost:8080/"
        },
        "id": "xqTTNf4gfn0w",
        "outputId": "810de23c-f8ac-46a5-a87c-c8afb1ba232a"
      },
      "execution_count": null,
      "outputs": [
        {
          "output_type": "execute_result",
          "data": {
            "text/plain": [
              "6"
            ]
          },
          "metadata": {},
          "execution_count": 4
        }
      ]
    },
    {
      "cell_type": "markdown",
      "source": [
        "# **Task 2: NumPy and Pandas**"
      ],
      "metadata": {
        "id": "lny2R2kigmd2"
      }
    },
    {
      "cell_type": "code",
      "source": [
        "# 1.\tCreate a NumPy array of numbers from 1 to 10 and calculate the mean.\n",
        "import numpy as np\n",
        "arr = np.array([1,2,3,4,5,6,7,8,9,10])\n",
        "np.mean(arr)"
      ],
      "metadata": {
        "colab": {
          "base_uri": "https://localhost:8080/"
        },
        "id": "RV-Em011gpMf",
        "outputId": "835f2e8b-b9f4-4474-f102-8dd6ad94270e"
      },
      "execution_count": null,
      "outputs": [
        {
          "output_type": "execute_result",
          "data": {
            "text/plain": [
              "5.5"
            ]
          },
          "metadata": {},
          "execution_count": 5
        }
      ]
    },
    {
      "cell_type": "code",
      "source": [
        "# 2.\tCreate a Pandas DataFrame using a dictionary with at least two columns (e.g., Name and Score) and print the first two rows.\n",
        "import pandas as pd\n",
        "student = {\n",
        "    \"name\": [\"Rameez\",\"Ahmed\",\"Ali\"],\n",
        "    \"score\":[88,98,39]\n",
        "}\n",
        "df=pd.DataFrame(student)\n",
        "print(df.head(2))"
      ],
      "metadata": {
        "colab": {
          "base_uri": "https://localhost:8080/"
        },
        "id": "iQkR88Dqg6W_",
        "outputId": "3700423f-b520-4023-fa59-22778d49e8f9"
      },
      "execution_count": null,
      "outputs": [
        {
          "output_type": "stream",
          "name": "stdout",
          "text": [
            "     name  score\n",
            "0  Rameez     88\n",
            "1   Ahmed     98\n"
          ]
        }
      ]
    },
    {
      "cell_type": "markdown",
      "source": [
        "# **Homework Assignment**"
      ],
      "metadata": {
        "id": "h414hDo-jQDa"
      }
    },
    {
      "cell_type": "markdown",
      "source": [
        "**Homework Task 1: Python Functions and Loops**"
      ],
      "metadata": {
        "id": "4GALEROkj9IS"
      }
    },
    {
      "cell_type": "code",
      "source": [
        "#\tAccepts user input for three numbers.\n",
        "num1=float(input(\"Enter first number: \"))\n",
        "num2=float(input(\"Enter second number: \"))\n",
        "num3=float(input(\"Enter third number: \"))\n",
        "\n",
        "# Calculates and prints the average of these numbers using a function.\n",
        "def avg(num1,num2,num3):\n",
        "  return (num1+num2+num3)/3\n",
        "print(\"Average is: \",avg(num1,num2,num3))"
      ],
      "metadata": {
        "colab": {
          "base_uri": "https://localhost:8080/"
        },
        "id": "VFqnGI7DjS08",
        "outputId": "4a6cb2ce-3550-46c2-e84f-e3c98deb843c"
      },
      "execution_count": null,
      "outputs": [
        {
          "output_type": "stream",
          "name": "stdout",
          "text": [
            "Enter first number: 5\n",
            "Enter second number: 3\n",
            "Enter third number: 10\n",
            "Average is:  6.0\n"
          ]
        }
      ]
    },
    {
      "cell_type": "code",
      "source": [
        "# Uses a loop to display numbers from 1 to 10, but only prints even numbers.\n",
        "for i in range(1,11):\n",
        "  if i%2==0:\n",
        "    print(i)"
      ],
      "metadata": {
        "colab": {
          "base_uri": "https://localhost:8080/"
        },
        "id": "59SdWiTNk6R0",
        "outputId": "e8711197-1334-45ce-e405-7daae30eebcc"
      },
      "execution_count": null,
      "outputs": [
        {
          "output_type": "stream",
          "name": "stdout",
          "text": [
            "2\n",
            "4\n",
            "6\n",
            "8\n",
            "10\n"
          ]
        }
      ]
    },
    {
      "cell_type": "markdown",
      "source": [
        "**Homework Task 2: NumPy and Data Analysis**"
      ],
      "metadata": {
        "id": "YaB19xNClxzZ"
      }
    },
    {
      "cell_type": "code",
      "source": [
        "# 1.\tCreates a NumPy array of random numbers (size 10) and calculates the standard deviation.\n",
        "number = np.random.rand(10)\n",
        "np.std(number)"
      ],
      "metadata": {
        "colab": {
          "base_uri": "https://localhost:8080/"
        },
        "id": "Jx9lD57Tl1JO",
        "outputId": "8a258777-f68f-419a-9e5a-bfd748cef7ac"
      },
      "execution_count": null,
      "outputs": [
        {
          "output_type": "execute_result",
          "data": {
            "text/plain": [
              "0.28837365411410915"
            ]
          },
          "metadata": {},
          "execution_count": 15
        }
      ]
    },
    {
      "cell_type": "code",
      "source": [
        "# 2.\tLoads a dataset into a Pandas DataFrame, prints the column names, and displays the summary statistics for numerical columns.\n",
        "dataset = {\n",
        "    \"name\":[\"Rameez\",\"Ahmed\",\"Ali\"],\n",
        "    \"score\":[88,98,39],\n",
        "    \"program\":['AI',\"CS\",\"SE\"]\n",
        "}\n",
        "\n",
        "df=pd.DataFrame(dataset)\n",
        "print(df.columns)\n",
        "print(df.describe())"
      ],
      "metadata": {
        "colab": {
          "base_uri": "https://localhost:8080/"
        },
        "id": "FUuXTQWpmE7m",
        "outputId": "0d0c5ad9-4985-4c90-cd2e-c2bf68a955d4"
      },
      "execution_count": null,
      "outputs": [
        {
          "output_type": "stream",
          "name": "stdout",
          "text": [
            "Index(['name', 'score', 'program'], dtype='object')\n",
            "           score\n",
            "count   3.000000\n",
            "mean   75.000000\n",
            "std    31.575307\n",
            "min    39.000000\n",
            "25%    63.500000\n",
            "50%    88.000000\n",
            "75%    93.000000\n",
            "max    98.000000\n"
          ]
        }
      ]
    },
    {
      "cell_type": "markdown",
      "source": [
        "# **Additional Tasks Lab 01**\n"
      ],
      "metadata": {
        "id": "RhSrQueJ_nqv"
      }
    },
    {
      "cell_type": "markdown",
      "source": [
        "**Task 1**"
      ],
      "metadata": {
        "id": "2GTgf6evAAXz"
      }
    },
    {
      "cell_type": "code",
      "source": [
        "#  1. Create a Python script that accepts a user's first and last name as input.\n",
        "first_name = input(\"Enter your first name: \")\n",
        "last_name = input(\"Enter your last name: \")\n",
        "#  2. Combine the names and print a welcome message, e.g., \"Welcome, John Doe!\"\n",
        "print(\"Welcome, \"+first_name+\" \"+last_name+\"!\")\n",
        "#  3. Create a list of five cities and use a loop to print each city in uppercase letters.\n",
        "cities =['Abbottabad','Haripur','Peshawar','Islamabad','Multan']\n",
        "for city in cities:\n",
        "  print(city.upper())"
      ],
      "metadata": {
        "colab": {
          "base_uri": "https://localhost:8080/"
        },
        "id": "P8hvXUfIAF5b",
        "outputId": "3e898557-1baf-4ab4-c2c6-bcb11f6dc9d3"
      },
      "execution_count": null,
      "outputs": [
        {
          "output_type": "stream",
          "name": "stdout",
          "text": [
            "Enter your first name: Rameez\n",
            "Enter your last name: Anwar\n",
            "Welcome, Rameez Anwar!\n",
            "ABBOTTABAD\n",
            "HARIPUR\n",
            "PESHAWAR\n",
            "ISLAMABAD\n",
            "MULTAN\n"
          ]
        }
      ]
    },
    {
      "cell_type": "markdown",
      "source": [
        "**Task 2**"
      ],
      "metadata": {
        "id": "A3Fh0tVzA9bp"
      }
    },
    {
      "cell_type": "code",
      "source": [
        "# 1. Write a Python function that accepts a list of numbers and returns the maximum number.\n",
        "def max_num(numbers):\n",
        "  return max(numbers)\n",
        "max_num([1,5,7,100,200])\n"
      ],
      "metadata": {
        "colab": {
          "base_uri": "https://localhost:8080/"
        },
        "id": "oFG66uOkBAVd",
        "outputId": "e9169411-285c-4285-ae72-5bbb0f3451e6"
      },
      "execution_count": null,
      "outputs": [
        {
          "output_type": "execute_result",
          "data": {
            "text/plain": [
              "200"
            ]
          },
          "metadata": {},
          "execution_count": 10
        }
      ]
    },
    {
      "cell_type": "code",
      "source": [
        "# 2. Write another function that checks if a number is prime.\n",
        "def prime(num):\n",
        "  if num>1:\n",
        "    if num == 2 or num % 2 !=0:\n",
        "      print(num,'is a prime number')\n",
        "    else:\n",
        "      print(num,'is not a prime number')\n",
        "  else:\n",
        "    print(num,'is not a prime number')\n",
        "# 3. Create a loop that calls the prime-checking function on numbers from 1 to 20 and prints whether each number is prime or not.\n",
        "for i in range(1,21):\n",
        "  prime(i)"
      ],
      "metadata": {
        "colab": {
          "base_uri": "https://localhost:8080/"
        },
        "id": "jfRz8_qmB_8H",
        "outputId": "d57c171c-2339-4af0-df5c-a0b9b38c813f"
      },
      "execution_count": null,
      "outputs": [
        {
          "output_type": "stream",
          "name": "stdout",
          "text": [
            "1 is not a prime number\n",
            "2 is a prime number\n",
            "3 is a prime number\n",
            "4 is not a prime number\n",
            "5 is a prime number\n",
            "6 is not a prime number\n",
            "7 is a prime number\n",
            "8 is not a prime number\n",
            "9 is a prime number\n",
            "10 is not a prime number\n",
            "11 is a prime number\n",
            "12 is not a prime number\n",
            "13 is a prime number\n",
            "14 is not a prime number\n",
            "15 is a prime number\n",
            "16 is not a prime number\n",
            "17 is a prime number\n",
            "18 is not a prime number\n",
            "19 is a prime number\n",
            "20 is not a prime number\n"
          ]
        }
      ]
    },
    {
      "cell_type": "markdown",
      "source": [
        "**Task 3**"
      ],
      "metadata": {
        "id": "t2-JEkdWDLoT"
      }
    },
    {
      "cell_type": "code",
      "source": [
        "#1. Create a NumPy array of 10 random integers between 1 and 50.\n",
        "import numpy as np\n",
        "arr = np.random.randint(1,50,10)\n",
        "print(arr)\n",
        "#2. Calculate the sum, mean, and standard deviation of the array.\n",
        "print('Sum is',arr.sum())\n",
        "print('Mean is',arr.mean())\n",
        "print('Standard deviation is',arr.std())\n",
        "#3. Sort the array in ascending order and print the sorted array.\n",
        "print('Sorted Array',np.sort(arr))"
      ],
      "metadata": {
        "colab": {
          "base_uri": "https://localhost:8080/"
        },
        "id": "gsl7d0SgDPTi",
        "outputId": "b48c9d42-100f-428d-fe54-8a8134d01716"
      },
      "execution_count": null,
      "outputs": [
        {
          "output_type": "stream",
          "name": "stdout",
          "text": [
            "[46 42 32 27 20 20 38 16 45 16]\n",
            "Sum is 302\n",
            "Mean is 30.2\n",
            "Standard deviation is 11.373653766490344\n",
            "Sorted Array [16 16 20 20 27 32 38 42 45 46]\n"
          ]
        }
      ]
    },
    {
      "cell_type": "markdown",
      "source": [
        "**Task 4**"
      ],
      "metadata": {
        "id": "Lbt1PH2UHrAv"
      }
    },
    {
      "cell_type": "code",
      "source": [
        "import pandas as pd\n",
        "#1. Create a Pandas DataFrame with three columns: Name, Age, and Score.\n",
        "#2. Add data for at least five students.\n",
        "students = {\n",
        "    'Name':[\"Rameez\",'Ahmed','Ali','Umer','Azeem'],\n",
        "    'Age':[22,34,34,23,33],\n",
        "    'Score':[80,60,71,69,90]\n",
        "}\n",
        "\n",
        "df= pd.DataFrame(students)\n",
        "print(df)"
      ],
      "metadata": {
        "colab": {
          "base_uri": "https://localhost:8080/"
        },
        "id": "tNP25jIRGdFY",
        "outputId": "4aee3911-d6c3-4b31-863e-6109e7b40340"
      },
      "execution_count": null,
      "outputs": [
        {
          "output_type": "stream",
          "name": "stdout",
          "text": [
            "     Name  Age  Score\n",
            "0  Rameez   22     80\n",
            "1   Ahmed   34     60\n",
            "2     Ali   34     71\n",
            "3    Umer   23     69\n",
            "4   Azeem   33     90\n"
          ]
        }
      ]
    },
    {
      "cell_type": "code",
      "source": [
        "# 3. Calculate the average score and filter out students who scored below 70.\n",
        "\n",
        "print(\"\\nAverage Score is\",df['Score'].mean())\n",
        "score70= df[df['Score']<70]\n",
        "print('\\nStudents score below 70\\n',score70)"
      ],
      "metadata": {
        "colab": {
          "base_uri": "https://localhost:8080/"
        },
        "id": "AUS7nUpgKLcX",
        "outputId": "54f21585-d74b-41c3-c60d-6b8f56ea712c"
      },
      "execution_count": null,
      "outputs": [
        {
          "output_type": "stream",
          "name": "stdout",
          "text": [
            "\n",
            "Average Score is 74.0\n",
            "\n",
            "Students score below 70\n",
            "     Name  Age  Score\n",
            "1  Ahmed   34     60\n",
            "3   Umer   23     69\n"
          ]
        }
      ]
    },
    {
      "cell_type": "code",
      "source": [
        "# 4. Print the names of students who passed (scored 70 or above).\n",
        "above70= df[df['Score']>=70]\n",
        "print(\"Students having 70 or more Score\")\n",
        "print(above70)"
      ],
      "metadata": {
        "colab": {
          "base_uri": "https://localhost:8080/"
        },
        "id": "XZ6_kjCbKOTF",
        "outputId": "7df1aaa4-547f-4494-bba9-f90bf94feeb5"
      },
      "execution_count": null,
      "outputs": [
        {
          "output_type": "stream",
          "name": "stdout",
          "text": [
            "Students having 70 or more Score\n",
            "     Name  Age  Score\n",
            "0  Rameez   22     80\n",
            "2     Ali   34     71\n",
            "4   Azeem   33     90\n"
          ]
        }
      ]
    },
    {
      "cell_type": "markdown",
      "source": [
        "**Task 5**"
      ],
      "metadata": {
        "id": "2gmDd5YSK6ab"
      }
    },
    {
      "source": [
        "#1. Write Python code to generate the first 10 Fibonacci numbers.\n",
        "def fibonacci(n):\n",
        "  if n <= 0:\n",
        "    return []\n",
        "  elif n == 1:\n",
        "    return [0]\n",
        "  else:\n",
        "    list_fib = [0, 1]\n",
        "    while len(list_fib) < n:\n",
        "      next_fib = list_fib[-1] + list_fib[-2]\n",
        "      list_fib.append(next_fib)\n",
        "    return list_fib\n",
        "\n",
        "print(fibonacci(10))"
      ],
      "cell_type": "code",
      "metadata": {
        "colab": {
          "base_uri": "https://localhost:8080/"
        },
        "id": "BmSQsH49LGzy",
        "outputId": "9fc10182-170d-4d56-80ac-d9ce87558290"
      },
      "execution_count": null,
      "outputs": [
        {
          "output_type": "stream",
          "name": "stdout",
          "text": [
            "[0, 1, 1, 2, 3, 5, 8, 13, 21, 34]\n"
          ]
        }
      ]
    }
  ]
}